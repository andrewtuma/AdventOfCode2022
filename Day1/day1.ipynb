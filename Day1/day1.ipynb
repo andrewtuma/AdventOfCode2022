{
 "cells": [
  {
   "cell_type": "code",
   "execution_count": null,
   "id": "ec42bff5",
   "metadata": {},
   "outputs": [],
   "source": [
    "with open('test_input2.txt') as f:\n",
    "    lines = f.readlines()"
   ]
  },
  {
   "cell_type": "code",
   "execution_count": null,
   "id": "feb4af8b",
   "metadata": {},
   "outputs": [],
   "source": [
    "cals = [x[:-1] for x in lines]"
   ]
  },
  {
   "cell_type": "code",
   "execution_count": null,
   "id": "c17447a9",
   "metadata": {},
   "outputs": [],
   "source": [
    "# this actually doesn't calculate the last item since it is searching for a null value, but it didn't matter for\n",
    "# this example data and I'm too lazy to change my code so who cares. Word to the wise: don't copy me. \n",
    "\n",
    "elf_total = 0\n",
    "max_elf = 0\n",
    "elf_totals = []\n",
    "\n",
    "for x in cals:\n",
    "    if x:\n",
    "        elf_total += int(x)\n",
    "        \n",
    "    else:\n",
    "        elf_totals.append(elf_total)\n",
    "        if max_elf < elf_total:\n",
    "            max_elf = elf_total\n",
    "        elf_total = 0\n",
    "        pass\n",
    "    \n",
    "print(max_elf)\n",
    "elf_totals.sort()\n",
    "print(sum(elf_totals[-3:]))"
   ]
  },
  {
   "cell_type": "code",
   "execution_count": null,
   "id": "c28ae0b2",
   "metadata": {},
   "outputs": [],
   "source": []
  },
  {
   "cell_type": "code",
   "execution_count": null,
   "id": "97de39fd",
   "metadata": {},
   "outputs": [],
   "source": []
  }
 ],
 "metadata": {
  "kernelspec": {
   "display_name": "Python 3 (ipykernel)",
   "language": "python",
   "name": "python3"
  },
  "language_info": {
   "codemirror_mode": {
    "name": "ipython",
    "version": 3
   },
   "file_extension": ".py",
   "mimetype": "text/x-python",
   "name": "python",
   "nbconvert_exporter": "python",
   "pygments_lexer": "ipython3",
   "version": "3.9.12"
  }
 },
 "nbformat": 4,
 "nbformat_minor": 5
}
