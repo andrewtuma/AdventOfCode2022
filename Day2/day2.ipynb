{
 "cells": [
  {
   "cell_type": "markdown",
   "id": "1da9ca9c",
   "metadata": {},
   "source": [
    "A = Rock - 1 <br>\n",
    "B = Paper - 2 <br>\n",
    "C = Scissors - 3 <br>\n",
    "<br>\n",
    "X = Rock - 1 <br>\n",
    "Y = Paper - 2 <br>\n",
    "Z = Scissors - 3 <br> \n",
    "<br>\n",
    "Win - 6 <br>\n",
    "Lose - 0 <br> \n",
    "Draw - 3 <br>"
   ]
  },
  {
   "cell_type": "code",
   "execution_count": null,
   "id": "84faaf72",
   "metadata": {},
   "outputs": [],
   "source": [
    "with open('test_input2.txt') as f:\n",
    "    lines = f.readlines()"
   ]
  },
  {
   "cell_type": "code",
   "execution_count": null,
   "id": "2f0ad798",
   "metadata": {},
   "outputs": [],
   "source": [
    "results = [x[:-1] for x in lines]"
   ]
  },
  {
   "cell_type": "code",
   "execution_count": null,
   "id": "6365c1ad",
   "metadata": {},
   "outputs": [],
   "source": [
    "convert = {\"A\": 'Rock', \"B\": 'Paper', \"C\": 'Scissors', \n",
    "           \"X\": 'Rock', \"Y\": 'Paper', \"Z\": 'Scissors'}\n",
    "points_dict = {\"Rock\": 1, \"Paper\": 2, \"Scissors\": 3}"
   ]
  },
  {
   "cell_type": "code",
   "execution_count": null,
   "id": "ab501522",
   "metadata": {},
   "outputs": [],
   "source": [
    "my_list = []\n",
    "elf_list = []\n",
    "for x in lines:\n",
    "    elf_list.append(convert[x[0]])\n",
    "    my_list.append(convert[x[2]])"
   ]
  },
  {
   "cell_type": "code",
   "execution_count": null,
   "id": "f7abd9d3",
   "metadata": {},
   "outputs": [],
   "source": [
    "def calc_score(my_list, elf_list):\n",
    "    my_points = 0\n",
    "    lose = 0\n",
    "    draw = 0\n",
    "    win = 0\n",
    "\n",
    "    for i in range(len(my_list)):\n",
    "        round_points = 0\n",
    "        my_points += points_dict[my_list[i]]\n",
    "\n",
    "        # case of tie\n",
    "        if my_list[i] == elf_list[i]:\n",
    "            my_points += 3\n",
    "            round_points = 3 + points_dict[my_list[i]]\n",
    "            draw += 1\n",
    "\n",
    "        # case of losing\n",
    "        elif ((my_list[i] == 'Rock' and elf_list[i] == 'Paper')\n",
    "              or (my_list[i] == 'Paper' and elf_list[i] == 'Scissors')\n",
    "              or (my_list[i] == 'Scissors' and elf_list[i] == 'Rock')):\n",
    "            round_points = points_dict[my_list[i]]\n",
    "            lose += 1\n",
    "\n",
    "        # case of winning\n",
    "        else:\n",
    "            my_points += 6\n",
    "            round_points = 6 + points_dict[my_list[i]]\n",
    "            win += 1\n",
    "\n",
    "    print(f\"My points: {my_points}\")"
   ]
  },
  {
   "cell_type": "code",
   "execution_count": null,
   "id": "3b0249c0",
   "metadata": {},
   "outputs": [],
   "source": [
    "calc_score(my_list, elf_list)"
   ]
  },
  {
   "cell_type": "markdown",
   "id": "a7db86fa",
   "metadata": {},
   "source": [
    "\n",
    "# PART 2 <br>\n",
    "X - lose <br>\n",
    "Y - draw <br>\n",
    "Z - win <br>"
   ]
  },
  {
   "cell_type": "code",
   "execution_count": null,
   "id": "43452b3c",
   "metadata": {},
   "outputs": [],
   "source": [
    "WLD_key = {\"X\": {\"A\": \"Z\", \"B\":\"X\", \"C\":\"Y\"},\n",
    "           \"Y\": {\"A\": \"X\", \"B\":\"Y\", \"C\":\"Z\"},\n",
    "           \"Z\": {\"A\": \"Y\", \"B\":\"Z\", \"C\":\"X\"}\n",
    "            }"
   ]
  },
  {
   "cell_type": "code",
   "execution_count": null,
   "id": "45a6c2a6",
   "metadata": {},
   "outputs": [],
   "source": [
    "my_list = []\n",
    "elf_list = []\n",
    "for x in results:\n",
    "    elf_list.append(convert[x[0]])\n",
    "    my_list.append(convert[WLD_key[x[2]][x[0]]])"
   ]
  },
  {
   "cell_type": "code",
   "execution_count": null,
   "id": "c9d2ee03",
   "metadata": {},
   "outputs": [],
   "source": [
    "calc_score(my_list, elf_list)"
   ]
  },
  {
   "cell_type": "code",
   "execution_count": null,
   "id": "71e38ac5",
   "metadata": {},
   "outputs": [],
   "source": []
  }
 ],
 "metadata": {
  "kernelspec": {
   "display_name": "Python 3 (ipykernel)",
   "language": "python",
   "name": "python3"
  },
  "language_info": {
   "codemirror_mode": {
    "name": "ipython",
    "version": 3
   },
   "file_extension": ".py",
   "mimetype": "text/x-python",
   "name": "python",
   "nbconvert_exporter": "python",
   "pygments_lexer": "ipython3",
   "version": "3.9.12"
  }
 },
 "nbformat": 4,
 "nbformat_minor": 5
}
